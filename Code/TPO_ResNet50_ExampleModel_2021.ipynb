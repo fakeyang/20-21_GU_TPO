{
 "cells": [
  {
   "cell_type": "code",
   "execution_count": null,
   "metadata": {},
   "outputs": [],
   "source": [
    "# Create Image Paths\n",
    "import os\n",
    "from os.path import join\n",
    "\n",
    "\n",
    "hot_dog_image_dir = '../tpo_input/tpo_data/example/tpo'\n",
    "\n",
    "hot_dog_paths = [join(hot_dog_image_dir,filename) for filename in \n",
    "                            ['1000288.jpg',\n",
    "                             '127117.jpg']]\n",
    "\n",
    "not_hot_dog_image_dir = '../tpo_input/tpo_data/example/not_tpo'\n",
    "not_hot_dog_paths = [join(not_hot_dog_image_dir, filename) for filename in\n",
    "                            ['823536.jpg',\n",
    "                             '99890.jpg']]\n",
    "\n",
    "img_paths = tpo_paths + not_tpo_paths"
   ]
  },
  {
   "cell_type": "code",
   "execution_count": null,
   "metadata": {},
   "outputs": [],
   "source": [
    "# Run an Example Model\n",
    "from IPython.display import Image, display\n",
    "from learntools.deep_learning.decode_predictions import decode_predictions\n",
    "import numpy as np\n",
    "from tensorflow.keras.applications.resnet50 import preprocess_input\n",
    "from tensorflow.keras.applications import ResNet50\n",
    "from tensorflow.keras.preprocessing.image import load_img, img_to_array\n",
    "\n",
    "\n",
    "image_size = 224\n",
    "\n",
    "def read_and_prep_images(img_paths, img_height=image_size, img_width=image_size):\n",
    "    imgs = [load_img(img_path, target_size=(img_height, img_width)) for img_path in img_paths]\n",
    "    img_array = np.array([img_to_array(img) for img in imgs])\n",
    "    output = preprocess_input(img_array)\n",
    "    return(output)\n",
    "\n",
    "\n",
    "my_model = ResNet50(weights='../tpo_input/resnet50/resnet50_weights_tf_dim_ordering_tf_kernels.h5')\n",
    "test_data = read_and_prep_images(img_paths)\n",
    "preds = my_model.predict(test_data)\n",
    "\n",
    "most_likely_labels = decode_predictions(preds, top=3)"
   ]
  },
  {
   "cell_type": "code",
   "execution_count": null,
   "metadata": {},
   "outputs": [],
   "source": [
    "# Visualize Predictions\n",
    "for i, img_path in enumerate(img_paths):\n",
    "    display(Image(img_path))\n",
    "    print(most_likely_labels[i])"
   ]
  },
  {
   "cell_type": "code",
   "execution_count": null,
   "metadata": {},
   "outputs": [],
   "source": [
    "# Set up code checking\n",
    "from learntools.core import binder\n",
    "binder.bind(globals())\n",
    "from learntools.deep_learning.exercise_3 import *\n",
    "print(\"Setup Complete\")"
   ]
  }
 ],
 "metadata": {
  "kernelspec": {
   "display_name": "Python 3",
   "language": "python",
   "name": "python3"
  },
  "language_info": {
   "codemirror_mode": {
    "name": "ipython",
    "version": 3
   },
   "file_extension": ".py",
   "mimetype": "text/x-python",
   "name": "python",
   "nbconvert_exporter": "python",
   "pygments_lexer": "ipython3",
   "version": "3.8.5"
  }
 },
 "nbformat": 4,
 "nbformat_minor": 4
}
